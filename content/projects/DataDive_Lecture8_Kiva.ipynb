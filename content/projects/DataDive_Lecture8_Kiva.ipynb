{
  "nbformat": 4,
  "nbformat_minor": 0,
  "metadata": {
    "kernelspec": {
      "display_name": "Python 3",
      "language": "python",
      "name": "python3"
    },
    "language_info": {
      "codemirror_mode": {
        "name": "ipython",
        "version": 3
      },
      "file_extension": ".py",
      "mimetype": "text/x-python",
      "name": "python",
      "nbconvert_exporter": "python",
      "pygments_lexer": "ipython3",
      "version": "3.6.7"
    },
    "colab": {
      "name": "DataDive-Lecture8-Kiva.ipynb",
      "provenance": []
    }
  },
  "cells": [
    {
      "cell_type": "markdown",
      "metadata": {
        "id": "inB-grAo8sSQ",
        "colab_type": "text"
      },
      "source": [
        "# Data Dive Week 10: Fitting and Evaluating Classification Models\n",
        "\n",
        "Today we'll be looking at a real world application of logistic regression using data from loans requests posted on [Kiva.org](https://www.kiva.org/). \n",
        "\n",
        "![alt text](https://www-kiva-org.global.ssl.fastly.net/cms/sites/default/files/kivablog/preview_logo_1.jpg)\n",
        "\n",
        "Kiva is an international nonprofit, founded in 2005 and based in San Francisco, with a mission to connect people through lending to alleviate poverty. Kiva seeks to celebrate and support people looking to create a better future for themselves, their families and their communities.\n",
        "\n",
        "*By lending as little as $25 on Kiva, anyone can help a borrower start or grow a business, go to school, access clean energy or realize their potential. For some, it’s a matter of survival, for others it’s the fuel for a life-long ambition.*\n",
        "\n",
        "## Today's Modeling Objective\n",
        "Our focus today will be determining whether microfinance projects on [Kiva's site](https://www.kiva.org/) receive funding or not using a host of features made available by Kiva, along with some features we'll design ourselves. \n",
        "\n",
        "Today's data is a subsample of projects in Kenya, one of Kiva's most active countries for lending. We'll be working with 18,000 observation, 3,000 or which were funded. Documentation on the data is available on [Kiva's website](http://build.kiva.org/docs/data/basic_types).\n"
      ]
    },
    {
      "cell_type": "code",
      "metadata": {
        "id": "8Bs7HjNk8sSR",
        "colab_type": "code",
        "colab": {}
      },
      "source": [
        "%matplotlib inline\n",
        "\n",
        "import pandas as pd\n",
        "import numpy as np\n",
        "import warnings\n",
        "import matplotlib.pyplot as plt\n",
        "from sklearn.linear_model import LogisticRegression\n",
        "from sklearn.tree import DecisionTreeClassifier\n",
        "from sklearn.ensemble import RandomForestClassifier, GradientBoostingClassifier\n",
        "from sklearn.metrics import accuracy_score, recall_score, precision_score, confusion_matrix\n",
        "from sklearn.metrics import roc_curve, roc_auc_score\n",
        "from sklearn.model_selection import KFold, train_test_split\n",
        "\n",
        "warnings.filterwarnings(\"ignore\")\n",
        "pd.set_option(\"display.max_rows\", 500)\n",
        "pd.set_option(\"display.max_columns\", 40)\n",
        "random_state = 20191028"
      ],
      "execution_count": null,
      "outputs": []
    },
    {
      "cell_type": "code",
      "metadata": {
        "id": "z4bn8KtJ8sSY",
        "colab_type": "code",
        "colab": {},
        "outputId": "7af75fa7-0b93-4f7f-c004-db2e4bfd522a"
      },
      "source": [
        "df = pd.read_csv('https://grantmlong.com/data/kiva_kenya_sample.csv')\n",
        "print(df.shape)\n",
        "print(list(df))\n",
        "df.head()"
      ],
      "execution_count": null,
      "outputs": [
        {
          "output_type": "stream",
          "text": [
            "(18000, 25)\n",
            "['LOAN_ID', 'DESCRIPTION', 'FUNDED_AMOUNT', 'LOAN_AMOUNT', 'STATUS', 'ACTIVITY_NAME', 'SECTOR_NAME', 'LOAN_USE', 'TOWN_NAME', 'CURRENCY', 'PARTNER_ID', 'POSTED_TIME', 'PLANNED_EXPIRATION_TIME', 'DISBURSE_TIME', 'RAISED_TIME', 'LENDER_TERM', 'NUM_LENDERS_TOTAL', 'NUM_JOURNAL_ENTRIES', 'NUM_BULK_ENTRIES', 'TAGS', 'BORROWER_NAMES', 'BORROWER_GENDERS', 'BORROWER_PICTURED', 'REPAYMENT_INTERVAL', 'DISTRIBUTION_MODEL']\n"
          ],
          "name": "stdout"
        },
        {
          "output_type": "execute_result",
          "data": {
            "text/html": [
              "<div>\n",
              "<style scoped>\n",
              "    .dataframe tbody tr th:only-of-type {\n",
              "        vertical-align: middle;\n",
              "    }\n",
              "\n",
              "    .dataframe tbody tr th {\n",
              "        vertical-align: top;\n",
              "    }\n",
              "\n",
              "    .dataframe thead th {\n",
              "        text-align: right;\n",
              "    }\n",
              "</style>\n",
              "<table border=\"1\" class=\"dataframe\">\n",
              "  <thead>\n",
              "    <tr style=\"text-align: right;\">\n",
              "      <th></th>\n",
              "      <th>LOAN_ID</th>\n",
              "      <th>DESCRIPTION</th>\n",
              "      <th>FUNDED_AMOUNT</th>\n",
              "      <th>LOAN_AMOUNT</th>\n",
              "      <th>STATUS</th>\n",
              "      <th>ACTIVITY_NAME</th>\n",
              "      <th>SECTOR_NAME</th>\n",
              "      <th>LOAN_USE</th>\n",
              "      <th>TOWN_NAME</th>\n",
              "      <th>CURRENCY</th>\n",
              "      <th>PARTNER_ID</th>\n",
              "      <th>POSTED_TIME</th>\n",
              "      <th>PLANNED_EXPIRATION_TIME</th>\n",
              "      <th>DISBURSE_TIME</th>\n",
              "      <th>RAISED_TIME</th>\n",
              "      <th>LENDER_TERM</th>\n",
              "      <th>NUM_LENDERS_TOTAL</th>\n",
              "      <th>NUM_JOURNAL_ENTRIES</th>\n",
              "      <th>NUM_BULK_ENTRIES</th>\n",
              "      <th>TAGS</th>\n",
              "      <th>BORROWER_NAMES</th>\n",
              "      <th>BORROWER_GENDERS</th>\n",
              "      <th>BORROWER_PICTURED</th>\n",
              "      <th>REPAYMENT_INTERVAL</th>\n",
              "      <th>DISTRIBUTION_MODEL</th>\n",
              "    </tr>\n",
              "  </thead>\n",
              "  <tbody>\n",
              "    <tr>\n",
              "      <td>0</td>\n",
              "      <td>854452</td>\n",
              "      <td>Janepher, pictured above, is a group leader an...</td>\n",
              "      <td>725.0</td>\n",
              "      <td>1000.0</td>\n",
              "      <td>expired</td>\n",
              "      <td>Agriculture</td>\n",
              "      <td>Agriculture</td>\n",
              "      <td>to buy cost-efficient maize seeds and fertiliz...</td>\n",
              "      <td>Webuye</td>\n",
              "      <td>KES</td>\n",
              "      <td>202.0</td>\n",
              "      <td>2015-03-12 12:14:55.000 +0000</td>\n",
              "      <td>2015-04-17 06:40:03.000 +0000</td>\n",
              "      <td>2015-02-28 08:00:00.000 +0000</td>\n",
              "      <td>NaN</td>\n",
              "      <td>11.0</td>\n",
              "      <td>15</td>\n",
              "      <td>1</td>\n",
              "      <td>1</td>\n",
              "      <td>#Eco-friendly, #Sustainable Ag, #Technology, #...</td>\n",
              "      <td>Teresa, Janepher, Joseph, Jane, Phylis J, Mild...</td>\n",
              "      <td>female, female, male, female, female, female, ...</td>\n",
              "      <td>true, true, true, true, true, true, true, true...</td>\n",
              "      <td>bullet</td>\n",
              "      <td>field_partner</td>\n",
              "    </tr>\n",
              "    <tr>\n",
              "      <td>1</td>\n",
              "      <td>868233</td>\n",
              "      <td>John is a married man. He has two children. He...</td>\n",
              "      <td>825.0</td>\n",
              "      <td>1100.0</td>\n",
              "      <td>expired</td>\n",
              "      <td>Grocery Store</td>\n",
              "      <td>Food</td>\n",
              "      <td>buy more stock of maize to produce maize flou...</td>\n",
              "      <td>Nakuru</td>\n",
              "      <td>KES</td>\n",
              "      <td>138.0</td>\n",
              "      <td>2015-04-10 10:47:35.000 +0000</td>\n",
              "      <td>2015-05-16 17:30:02.000 +0000</td>\n",
              "      <td>2015-04-07 07:00:00.000 +0000</td>\n",
              "      <td>NaN</td>\n",
              "      <td>14.0</td>\n",
              "      <td>14</td>\n",
              "      <td>1</td>\n",
              "      <td>1</td>\n",
              "      <td>#Parent, #Repeat Borrower, #Vegan</td>\n",
              "      <td>JOHN</td>\n",
              "      <td>male</td>\n",
              "      <td>true</td>\n",
              "      <td>monthly</td>\n",
              "      <td>field_partner</td>\n",
              "    </tr>\n",
              "    <tr>\n",
              "      <td>2</td>\n",
              "      <td>1429009</td>\n",
              "      <td>Margaret is a single mother and lives with her...</td>\n",
              "      <td>275.0</td>\n",
              "      <td>500.0</td>\n",
              "      <td>expired</td>\n",
              "      <td>Farming</td>\n",
              "      <td>Agriculture</td>\n",
              "      <td>to buy hybrid seeds and fertilizers to use on ...</td>\n",
              "      <td>Siongiroi</td>\n",
              "      <td>KES</td>\n",
              "      <td>156.0</td>\n",
              "      <td>2017-12-06 10:12:14.000 +0000</td>\n",
              "      <td>2018-01-08 12:50:04.000 +0000</td>\n",
              "      <td>2017-11-27 08:00:00.000 +0000</td>\n",
              "      <td>NaN</td>\n",
              "      <td>20.0</td>\n",
              "      <td>11</td>\n",
              "      <td>1</td>\n",
              "      <td>1</td>\n",
              "      <td>#Eco-friendly, #Woman Owned Biz</td>\n",
              "      <td>Margaret</td>\n",
              "      <td>female</td>\n",
              "      <td>true</td>\n",
              "      <td>monthly</td>\n",
              "      <td>field_partner</td>\n",
              "    </tr>\n",
              "    <tr>\n",
              "      <td>3</td>\n",
              "      <td>1077128</td>\n",
              "      <td>Agriphine is a proud mother of angelic-looking...</td>\n",
              "      <td>225.0</td>\n",
              "      <td>1000.0</td>\n",
              "      <td>expired</td>\n",
              "      <td>Farming</td>\n",
              "      <td>Agriculture</td>\n",
              "      <td>to buy farm supplies and seeds in order to exp...</td>\n",
              "      <td>Chuka</td>\n",
              "      <td>KES</td>\n",
              "      <td>156.0</td>\n",
              "      <td>2016-05-27 13:05:40.000 +0000</td>\n",
              "      <td>2016-07-03 03:30:03.000 +0000</td>\n",
              "      <td>2016-05-20 07:00:00.000 +0000</td>\n",
              "      <td>NaN</td>\n",
              "      <td>20.0</td>\n",
              "      <td>7</td>\n",
              "      <td>1</td>\n",
              "      <td>1</td>\n",
              "      <td>#Parent, #Woman Owned Biz</td>\n",
              "      <td>Agriphine</td>\n",
              "      <td>female</td>\n",
              "      <td>true</td>\n",
              "      <td>monthly</td>\n",
              "      <td>field_partner</td>\n",
              "    </tr>\n",
              "    <tr>\n",
              "      <td>4</td>\n",
              "      <td>825980</td>\n",
              "      <td>Bernard is 32 years. He is married to Caroline...</td>\n",
              "      <td>275.0</td>\n",
              "      <td>500.0</td>\n",
              "      <td>expired</td>\n",
              "      <td>Butcher Shop</td>\n",
              "      <td>Food</td>\n",
              "      <td>to add stocks of pork meat.</td>\n",
              "      <td>Kisumu</td>\n",
              "      <td>KES</td>\n",
              "      <td>133.0</td>\n",
              "      <td>2015-01-09 09:10:57.000 +0000</td>\n",
              "      <td>2015-02-09 16:10:03.000 +0000</td>\n",
              "      <td>2014-12-11 08:00:00.000 +0000</td>\n",
              "      <td>NaN</td>\n",
              "      <td>14.0</td>\n",
              "      <td>8</td>\n",
              "      <td>1</td>\n",
              "      <td>1</td>\n",
              "      <td>user_favorite, #Parent, #Repeat Borrower</td>\n",
              "      <td>BERNARD</td>\n",
              "      <td>male</td>\n",
              "      <td>true</td>\n",
              "      <td>monthly</td>\n",
              "      <td>field_partner</td>\n",
              "    </tr>\n",
              "  </tbody>\n",
              "</table>\n",
              "</div>"
            ],
            "text/plain": [
              "   LOAN_ID                                        DESCRIPTION  FUNDED_AMOUNT  \\\n",
              "0   854452  Janepher, pictured above, is a group leader an...          725.0   \n",
              "1   868233  John is a married man. He has two children. He...          825.0   \n",
              "2  1429009  Margaret is a single mother and lives with her...          275.0   \n",
              "3  1077128  Agriphine is a proud mother of angelic-looking...          225.0   \n",
              "4   825980  Bernard is 32 years. He is married to Caroline...          275.0   \n",
              "\n",
              "   LOAN_AMOUNT   STATUS  ACTIVITY_NAME  SECTOR_NAME  \\\n",
              "0       1000.0  expired    Agriculture  Agriculture   \n",
              "1       1100.0  expired  Grocery Store         Food   \n",
              "2        500.0  expired        Farming  Agriculture   \n",
              "3       1000.0  expired        Farming  Agriculture   \n",
              "4        500.0  expired   Butcher Shop         Food   \n",
              "\n",
              "                                            LOAN_USE  TOWN_NAME CURRENCY  \\\n",
              "0  to buy cost-efficient maize seeds and fertiliz...     Webuye      KES   \n",
              "1   buy more stock of maize to produce maize flou...     Nakuru      KES   \n",
              "2  to buy hybrid seeds and fertilizers to use on ...  Siongiroi      KES   \n",
              "3  to buy farm supplies and seeds in order to exp...      Chuka      KES   \n",
              "4                        to add stocks of pork meat.     Kisumu      KES   \n",
              "\n",
              "   PARTNER_ID                    POSTED_TIME        PLANNED_EXPIRATION_TIME  \\\n",
              "0       202.0  2015-03-12 12:14:55.000 +0000  2015-04-17 06:40:03.000 +0000   \n",
              "1       138.0  2015-04-10 10:47:35.000 +0000  2015-05-16 17:30:02.000 +0000   \n",
              "2       156.0  2017-12-06 10:12:14.000 +0000  2018-01-08 12:50:04.000 +0000   \n",
              "3       156.0  2016-05-27 13:05:40.000 +0000  2016-07-03 03:30:03.000 +0000   \n",
              "4       133.0  2015-01-09 09:10:57.000 +0000  2015-02-09 16:10:03.000 +0000   \n",
              "\n",
              "                   DISBURSE_TIME RAISED_TIME  LENDER_TERM  NUM_LENDERS_TOTAL  \\\n",
              "0  2015-02-28 08:00:00.000 +0000         NaN         11.0                 15   \n",
              "1  2015-04-07 07:00:00.000 +0000         NaN         14.0                 14   \n",
              "2  2017-11-27 08:00:00.000 +0000         NaN         20.0                 11   \n",
              "3  2016-05-20 07:00:00.000 +0000         NaN         20.0                  7   \n",
              "4  2014-12-11 08:00:00.000 +0000         NaN         14.0                  8   \n",
              "\n",
              "   NUM_JOURNAL_ENTRIES  NUM_BULK_ENTRIES  \\\n",
              "0                    1                 1   \n",
              "1                    1                 1   \n",
              "2                    1                 1   \n",
              "3                    1                 1   \n",
              "4                    1                 1   \n",
              "\n",
              "                                                TAGS  \\\n",
              "0  #Eco-friendly, #Sustainable Ag, #Technology, #...   \n",
              "1                  #Parent, #Repeat Borrower, #Vegan   \n",
              "2                    #Eco-friendly, #Woman Owned Biz   \n",
              "3                          #Parent, #Woman Owned Biz   \n",
              "4           user_favorite, #Parent, #Repeat Borrower   \n",
              "\n",
              "                                      BORROWER_NAMES  \\\n",
              "0  Teresa, Janepher, Joseph, Jane, Phylis J, Mild...   \n",
              "1                                               JOHN   \n",
              "2                                          Margaret    \n",
              "3                                          Agriphine   \n",
              "4                                            BERNARD   \n",
              "\n",
              "                                    BORROWER_GENDERS  \\\n",
              "0  female, female, male, female, female, female, ...   \n",
              "1                                               male   \n",
              "2                                             female   \n",
              "3                                             female   \n",
              "4                                               male   \n",
              "\n",
              "                                   BORROWER_PICTURED REPAYMENT_INTERVAL  \\\n",
              "0  true, true, true, true, true, true, true, true...             bullet   \n",
              "1                                               true            monthly   \n",
              "2                                               true            monthly   \n",
              "3                                               true            monthly   \n",
              "4                                               true            monthly   \n",
              "\n",
              "  DISTRIBUTION_MODEL  \n",
              "0      field_partner  \n",
              "1      field_partner  \n",
              "2      field_partner  \n",
              "3      field_partner  \n",
              "4      field_partner  "
            ]
          },
          "metadata": {
            "tags": []
          },
          "execution_count": 2
        }
      ]
    },
    {
      "cell_type": "markdown",
      "metadata": {
        "id": "urogHDkG8sSf",
        "colab_type": "text"
      },
      "source": [
        "# Familiarizing Ourselves with the Data\n",
        "\n",
        "### To get a sense of the different data points and examples here:\n",
        " 1. Print **three** randomly selected project descriptions.\n",
        " 2. Print **five** randomly selected examples of `POSTED_TIME`.\n",
        " 3. Print the unique values and counts for `ACTIVITY_NAME`.\n",
        " 4. Print the unique values and counts for `SECTOR_NAME`.\n",
        " 5. Summarize the values for loan amount.\n",
        " 6. Create a histogram for `NUM_LENDERS_TOTAL`. "
      ]
    },
    {
      "cell_type": "code",
      "metadata": {
        "id": "yetRUc188sSg",
        "colab_type": "code",
        "colab": {}
      },
      "source": [
        "# Print three randomly selected project descriptions.\n"
      ],
      "execution_count": null,
      "outputs": []
    },
    {
      "cell_type": "code",
      "metadata": {
        "id": "ci4XUdkI8sSm",
        "colab_type": "code",
        "colab": {}
      },
      "source": [
        "# Print five randomly selected examples of POSTED_TIME.\n"
      ],
      "execution_count": null,
      "outputs": []
    },
    {
      "cell_type": "code",
      "metadata": {
        "id": "Svy_usnw8sSr",
        "colab_type": "code",
        "colab": {}
      },
      "source": [
        "# Print the unique values and counts for ACTIVITY_NAME.\n"
      ],
      "execution_count": null,
      "outputs": []
    },
    {
      "cell_type": "code",
      "metadata": {
        "id": "EFPSCZ538sSx",
        "colab_type": "code",
        "colab": {}
      },
      "source": [
        "# Print the unique values and counts for SECTOR_NAME.\n"
      ],
      "execution_count": null,
      "outputs": []
    },
    {
      "cell_type": "code",
      "metadata": {
        "id": "-72TvC618sS2",
        "colab_type": "code",
        "colab": {}
      },
      "source": [
        "# Summarize the values for loan amount.\n"
      ],
      "execution_count": null,
      "outputs": []
    },
    {
      "cell_type": "code",
      "metadata": {
        "id": "R6W75Eq08sS8",
        "colab_type": "code",
        "colab": {}
      },
      "source": [
        "# Create a histogram for NUM_LENDERS_TOTAL\n"
      ],
      "execution_count": null,
      "outputs": []
    },
    {
      "cell_type": "markdown",
      "metadata": {
        "id": "4clGN5A08sTA",
        "colab_type": "text"
      },
      "source": [
        "# Tidying Up Our Data\n",
        "\n",
        "Now that we've taken a closer look at our data, there are a few things we'll want to do to prep our data for modeling: \n",
        " 1. Create a target variable\n",
        " 2. Generate a more usable version of the `POSTED_TIME` column.\n",
        " 3. Generate a variable with the amount of planned time before expiration for each project. \n",
        " 4. Generate boolean variables for each of the following categorical columns:\n",
        "   * `SECTOR_NAME`\n",
        "   * `ACTIVITY_NAME`\n",
        "   * `REPAYMENT_INTERVAL`\n",
        " 5. Create boolean variables for a handful of other free text and categorical columns, including:\n",
        "   * `BORROWER_PICTURED`\n",
        "   * `BORROWER_GENDERS`\n",
        "   * `DISTRIBUTION_MODEL`\n",
        " \n",
        " "
      ]
    },
    {
      "cell_type": "markdown",
      "metadata": {
        "id": "LTKOZ2Nz8sTB",
        "colab_type": "text"
      },
      "source": [
        "##### Let's choose and create a variable for our target. \n",
        "Remember, we're trying to determine whether microfinance projects on Kiva's site receive funding or not. "
      ]
    },
    {
      "cell_type": "code",
      "metadata": {
        "id": "PUvV5fcD8sTC",
        "colab_type": "code",
        "colab": {}
      },
      "source": [
        ""
      ],
      "execution_count": null,
      "outputs": []
    },
    {
      "cell_type": "code",
      "metadata": {
        "id": "_jKXkY1V8sTG",
        "colab_type": "code",
        "colab": {}
      },
      "source": [
        ""
      ],
      "execution_count": null,
      "outputs": []
    },
    {
      "cell_type": "markdown",
      "metadata": {
        "id": "6RF9sF1p8sTJ",
        "colab_type": "text"
      },
      "source": [
        "##### Let's make features for both `posted_year` and `posted_duration` "
      ]
    },
    {
      "cell_type": "code",
      "metadata": {
        "id": "ilmWin5I8sTJ",
        "colab_type": "code",
        "colab": {}
      },
      "source": [
        "df['posted_year'] = pd.to_datetime(df.POSTED_TIME).dt.year\n",
        "df['posted_duration'] = (pd.to_datetime(df.PLANNED_EXPIRATION_TIME)\n",
        "                             - pd.to_datetime(df.POSTED_TIME)\n",
        "                            ).dt.days\n",
        "                            "
      ],
      "execution_count": null,
      "outputs": []
    },
    {
      "cell_type": "markdown",
      "metadata": {
        "id": "1_0gtEHL8sTO",
        "colab_type": "text"
      },
      "source": [
        "##### Let's create binary (1/0) features for `SECTOR_NAME`, `ACTIVITY_NAME`, and `REPAYMENT_INTERVAL`\n"
      ]
    },
    {
      "cell_type": "code",
      "metadata": {
        "id": "YmHyLTOx8sTP",
        "colab_type": "code",
        "colab": {}
      },
      "source": [
        "sector_names = ['sector_' + name.lower() for name in df.SECTOR_NAME.unique()]\n",
        "for name in df.SECTOR_NAME.unique():\n",
        "    df['sector_' + name.lower()] = (df.SECTOR_NAME==name)*1\n",
        "\n",
        "activity_names = ['activity_' + name.lower() for name in df.ACTIVITY_NAME.value_counts().head(10).index.values]\n",
        "for name in df.ACTIVITY_NAME.unique():\n",
        "    df['activity_' + name.lower()] = (df.ACTIVITY_NAME==name)*1\n",
        "\n",
        "repayment_types = ['repayment_' + interval.lower() for interval in df.REPAYMENT_INTERVAL.unique()]\n",
        "for interval in df.REPAYMENT_INTERVAL.unique():\n",
        "    df['repayment_' + interval.lower()] = (df.REPAYMENT_INTERVAL==interval)*1\n"
      ],
      "execution_count": null,
      "outputs": []
    },
    {
      "cell_type": "markdown",
      "metadata": {
        "id": "0wQQXnBu8sTT",
        "colab_type": "text"
      },
      "source": [
        "##### Let's create binary (1/0) features for `has_borrower_pic`, `has_female_borrower`, `direct_distribution`, and `currency_usd`\n"
      ]
    },
    {
      "cell_type": "code",
      "metadata": {
        "id": "Z9CzC-oZ8sTU",
        "colab_type": "code",
        "colab": {}
      },
      "source": [
        "other_names = ['has_borrower_pic', 'has_female_borrower', 'direct_distribution', 'currency_usd']\n",
        "\n",
        "df['has_borrower_pic'] = df.BORROWER_PICTURED.str.contains('true')*1\n",
        "df['has_borrower_pic'] = df['has_borrower_pic'].fillna(0)\n",
        "\n",
        "df['has_female_borrower'] = df.BORROWER_GENDERS.str.contains('female')*1\n",
        "df['has_female_borrower'] = df['has_female_borrower'].fillna(0)\n",
        "\n",
        "df['direct_distribution'] = (df.DISTRIBUTION_MODEL=='direct')*1\n",
        "\n",
        "df['currency_usd'] = (df.CURRENCY=='USD')*1\n"
      ],
      "execution_count": null,
      "outputs": []
    },
    {
      "cell_type": "code",
      "metadata": {
        "id": "IlVFqV7m8sTZ",
        "colab_type": "code",
        "colab": {}
      },
      "source": [
        ""
      ],
      "execution_count": null,
      "outputs": []
    },
    {
      "cell_type": "code",
      "metadata": {
        "id": "RnppzM0y8sTd",
        "colab_type": "code",
        "colab": {}
      },
      "source": [
        ""
      ],
      "execution_count": null,
      "outputs": []
    },
    {
      "cell_type": "markdown",
      "metadata": {
        "id": "iW_zkMLp8sTf",
        "colab_type": "text"
      },
      "source": [
        "# Data Handling\n",
        "\n",
        "#### To get our data into formats that work well with `sci-kit learn`, we'll need to: \n",
        " 1. Identify our features and isolate them in a new dataframe.\n",
        " 2. Split our dataset into train and holdout splits. \n",
        " \n"
      ]
    },
    {
      "cell_type": "code",
      "metadata": {
        "id": "cpDrcCMu8sTf",
        "colab_type": "code",
        "colab": {},
        "outputId": "b0f8c6d8-b46b-4954-de90-3cccecc5971d"
      },
      "source": [
        "features = (['posted_year', 'posted_duration', 'LOAN_AMOUNT', 'LENDER_TERM', 'NUM_JOURNAL_ENTRIES'] \n",
        "            + repayment_types + sector_names + activity_names \n",
        "            + other_names\n",
        "           )\n",
        "\n",
        "model_df = df[(features + ['success'])].dropna().reset_index()\n",
        "\n",
        "train_df, holdout_df, y_train, y_holdout = train_test_split(\n",
        "    model_df[features], \n",
        "    model_df['success'], test_size=0.1,\n",
        "    random_state=random_state)\n",
        "\n",
        "train_df['success'] = y_train\n",
        "holdout_df['success'] = y_holdout\n",
        "\n",
        "train_df.reset_index(inplace=True)\n",
        "holdout_df.reset_index(inplace=True)\n",
        "\n",
        "print(train_df.shape[0], train_df.success.mean())\n",
        "print(holdout_df.shape[0], holdout_df.success.mean())"
      ],
      "execution_count": null,
      "outputs": [
        {
          "output_type": "stream",
          "text": [
            "14297 0.6211792683779814\n",
            "1589 0.632473253618628\n"
          ],
          "name": "stdout"
        }
      ]
    },
    {
      "cell_type": "code",
      "metadata": {
        "id": "9YvDXMgS8sTi",
        "colab_type": "code",
        "colab": {},
        "outputId": "b4b29190-4e52-4b8c-b9fd-c348a49e5f21"
      },
      "source": [
        "print(features)"
      ],
      "execution_count": null,
      "outputs": [
        {
          "output_type": "stream",
          "text": [
            "['posted_year', 'posted_duration', 'LOAN_AMOUNT', 'LENDER_TERM', 'NUM_JOURNAL_ENTRIES', 'repayment_bullet', 'repayment_monthly', 'repayment_irregular', 'repayment_weekly', 'sector_agriculture', 'sector_food', 'sector_retail', 'sector_transportation', 'sector_clothing', 'sector_housing', 'sector_construction', 'sector_services', 'sector_education', 'sector_personal use', 'sector_arts', 'sector_health', 'sector_manufacturing', 'sector_wholesale', 'sector_entertainment', 'activity_farming', 'activity_general store', 'activity_dairy', 'activity_retail', 'activity_agriculture', 'activity_cereals', 'activity_clothing sales', 'activity_motorcycle transport', 'activity_fruits & vegetables', 'activity_grocery store', 'has_borrower_pic', 'has_female_borrower', 'direct_distribution', 'currency_usd']\n"
          ],
          "name": "stdout"
        }
      ]
    },
    {
      "cell_type": "code",
      "metadata": {
        "id": "na5KTDCg8sTl",
        "colab_type": "code",
        "colab": {},
        "outputId": "7fac6156-50ce-41b9-b877-cc3b66129a06"
      },
      "source": [
        "model_df.shape"
      ],
      "execution_count": null,
      "outputs": [
        {
          "output_type": "execute_result",
          "data": {
            "text/plain": [
              "(15886, 40)"
            ]
          },
          "metadata": {
            "tags": []
          },
          "execution_count": 17
        }
      ]
    },
    {
      "cell_type": "code",
      "metadata": {
        "id": "sbhYCwGs8sTn",
        "colab_type": "code",
        "colab": {},
        "outputId": "6b6adab1-6a47-4c60-da2a-f6618e35a3f1"
      },
      "source": [
        "train_df.shape"
      ],
      "execution_count": null,
      "outputs": [
        {
          "output_type": "execute_result",
          "data": {
            "text/plain": [
              "(14297, 40)"
            ]
          },
          "metadata": {
            "tags": []
          },
          "execution_count": 18
        }
      ]
    },
    {
      "cell_type": "code",
      "metadata": {
        "id": "GzVljPw_8sTq",
        "colab_type": "code",
        "colab": {},
        "outputId": "5355d178-a95b-42b0-d517-5ef4f471b4e1"
      },
      "source": [
        "holdout_df.shape"
      ],
      "execution_count": null,
      "outputs": [
        {
          "output_type": "execute_result",
          "data": {
            "text/plain": [
              "(1589, 40)"
            ]
          },
          "metadata": {
            "tags": []
          },
          "execution_count": 19
        }
      ]
    },
    {
      "cell_type": "code",
      "metadata": {
        "id": "cX_0d5iY8sTs",
        "colab_type": "code",
        "colab": {}
      },
      "source": [
        ""
      ],
      "execution_count": null,
      "outputs": []
    },
    {
      "cell_type": "markdown",
      "metadata": {
        "id": "BQaSIE7m8sTv",
        "colab_type": "text"
      },
      "source": [
        "# Model Training\n",
        "\n",
        "Let's take a quick look at all of our classification model options using cross validation. For the tree based models, we'll use the hyperparameter `max_depth=5` as a naive attempt at avoiding overfitting before we dig deeper."
      ]
    },
    {
      "cell_type": "markdown",
      "metadata": {
        "id": "LWML1ZFv8sTv",
        "colab_type": "text"
      },
      "source": [
        "##### Let's fit and score the model, this time using cross validation:"
      ]
    },
    {
      "cell_type": "code",
      "metadata": {
        "id": "YMWLrblI8sTw",
        "colab_type": "code",
        "colab": {}
      },
      "source": [
        "k_fold = KFold(n_splits=5, random_state=random_state)"
      ],
      "execution_count": null,
      "outputs": []
    },
    {
      "cell_type": "code",
      "metadata": {
        "id": "sS2zu9y58sTz",
        "colab_type": "code",
        "colab": {}
      },
      "source": [
        "def get_cv_results(classifier):\n",
        "    \n",
        "    results = []\n",
        "    for train, test in k_fold.split(train_df):\n",
        "        classifier.fit(train_df.loc[train, features], train_df.loc[train, 'success'])\n",
        "        y_predicted = classifier.predict(train_df.loc[test, features])\n",
        "        accuracy = accuracy_score(train_df.loc[test, 'success'], y_predicted)\n",
        "        results.append(accuracy)\n",
        "        #print(accuracy)\n",
        "    return np.mean(results), np.std(results)\n"
      ],
      "execution_count": null,
      "outputs": []
    },
    {
      "cell_type": "markdown",
      "metadata": {
        "id": "KZo7ryNm8sT4",
        "colab_type": "text"
      },
      "source": [
        "#### First, let's look at the cv performance of Logistic Regression"
      ]
    },
    {
      "cell_type": "code",
      "metadata": {
        "id": "9f9Vx5Zm8sT5",
        "colab_type": "code",
        "colab": {},
        "outputId": "cc2f9bb1-d77b-4558-baf0-1344303a5f66"
      },
      "source": [
        "logreg = LogisticRegression(\n",
        "    random_state=random_state, \n",
        "    solver='lbfgs'\n",
        ")\n",
        "\n",
        "get_cv_results(logreg)"
      ],
      "execution_count": null,
      "outputs": [
        {
          "output_type": "execute_result",
          "data": {
            "text/plain": [
              "(0.7610689345631634, 0.006797944041968363)"
            ]
          },
          "metadata": {
            "tags": []
          },
          "execution_count": 22
        }
      ]
    },
    {
      "cell_type": "markdown",
      "metadata": {
        "id": "zlCHCo5R8sT9",
        "colab_type": "text"
      },
      "source": [
        "#### Next, let's take a naive attempt to beat Logistic Regression using a Tree"
      ]
    },
    {
      "cell_type": "code",
      "metadata": {
        "id": "hUFPJOC88sT-",
        "colab_type": "code",
        "colab": {},
        "outputId": "b0a77b36-7491-4461-e44b-d8987fb48538"
      },
      "source": [
        "dtree = DecisionTreeClassifier(\n",
        "    random_state=random_state, \n",
        "    max_depth=5\n",
        ")\n",
        "\n",
        "get_cv_results(dtree)"
      ],
      "execution_count": null,
      "outputs": [
        {
          "output_type": "execute_result",
          "data": {
            "text/plain": [
              "(0.8164649481333637, 0.0037257381470358945)"
            ]
          },
          "metadata": {
            "tags": []
          },
          "execution_count": 23
        }
      ]
    },
    {
      "cell_type": "markdown",
      "metadata": {
        "id": "1GAVThQY8sUB",
        "colab_type": "text"
      },
      "source": [
        "#### Looks like a non-linear method gives us a big boost. Let's try a Random Forest."
      ]
    },
    {
      "cell_type": "code",
      "metadata": {
        "id": "vpBDcwTW8sUB",
        "colab_type": "code",
        "colab": {},
        "outputId": "cccc6a1c-96b9-449b-c7da-140e5e9eef76"
      },
      "source": [
        "rforest = RandomForestClassifier(\n",
        "    #random_state=random_state, \n",
        "    max_depth=5,\n",
        "    n_estimators=100\n",
        ")\n",
        "\n",
        "get_cv_results(rforest)"
      ],
      "execution_count": null,
      "outputs": [
        {
          "output_type": "execute_result",
          "data": {
            "text/plain": [
              "(0.8302440092261708, 0.00641818441138857)"
            ]
          },
          "metadata": {
            "tags": []
          },
          "execution_count": 24
        }
      ]
    },
    {
      "cell_type": "markdown",
      "metadata": {
        "id": "Ld4Ysiny8sUD",
        "colab_type": "text"
      },
      "source": [
        "#### Finally, let's take a naive approach to Gradient Boosting."
      ]
    },
    {
      "cell_type": "code",
      "metadata": {
        "id": "MVtuS1vp8sUE",
        "colab_type": "code",
        "colab": {},
        "outputId": "9f8f7f7b-58c4-4fa7-f114-c213c2f5a270"
      },
      "source": [
        "gbm = GradientBoostingClassifier(\n",
        "    random_state=random_state, \n",
        "    max_depth=5,\n",
        "    n_estimators=100\n",
        ")\n",
        "\n",
        "get_cv_results(gbm)"
      ],
      "execution_count": null,
      "outputs": [
        {
          "output_type": "execute_result",
          "data": {
            "text/plain": [
              "(0.8592711765324565, 0.0016786691276004554)"
            ]
          },
          "metadata": {
            "tags": []
          },
          "execution_count": 25
        }
      ]
    },
    {
      "cell_type": "code",
      "metadata": {
        "id": "p0JbsedU8sUG",
        "colab_type": "code",
        "colab": {}
      },
      "source": [
        ""
      ],
      "execution_count": null,
      "outputs": []
    },
    {
      "cell_type": "markdown",
      "metadata": {
        "id": "rqa7ZMak8sUK",
        "colab_type": "text"
      },
      "source": [
        "### Learning Curves, Revisited\n",
        "\n",
        "Now that we're working with a more complex data set, we should be able to build more robust learning curves than we had experience with when we were using the  "
      ]
    },
    {
      "cell_type": "code",
      "metadata": {
        "id": "TzCuwa_f8sUK",
        "colab_type": "code",
        "colab": {},
        "outputId": "f538e0e9-e84d-4993-e266-588552df543e"
      },
      "source": [
        "hp_values = range(1,50, 2)\n",
        "all_mu = []\n",
        "all_sigma = []\n",
        "\n",
        "for m in hp_values:\n",
        "\n",
        "    dtree=DecisionTreeClassifier(\n",
        "        criterion='entropy', \n",
        "        random_state=random_state, \n",
        "        max_depth=m,\n",
        "    )\n",
        "\n",
        "    mu, sigma = get_cv_results(dtree)\n",
        "    all_mu.append(mu)\n",
        "    all_sigma.append(sigma)\n",
        "    \n",
        "    print(m, mu, sigma)"
      ],
      "execution_count": null,
      "outputs": [
        {
          "output_type": "stream",
          "text": [
            "1 0.7030132546711771 0.011098985250362634\n",
            "3 0.7760367334659044 0.011554924472987402\n",
            "5 0.8152057910609851 0.004185597138869119\n",
            "7 0.8233196604025566 0.006386478214900568\n",
            "9 0.8324826520104589 0.005987091328162801\n",
            "11 0.8377976553002785 0.00532458045036516\n",
            "13 0.8423447486406562 0.00479623948810901\n",
            "15 0.840176671876567 0.005202260264646533\n",
            "17 0.8391273050139787 0.006354178729814936\n",
            "19 0.8383578541081164 0.007255513045257531\n",
            "21 0.8342312951127221 0.007739073810672704\n",
            "23 0.8348605923632156 0.007929322226066527\n",
            "25 0.8333917918388012 0.008431458271949323\n",
            "27 0.8294749985935714 0.007808546588040986\n",
            "29 0.8283556282821761 0.005648424340123772\n",
            "31 0.8284259007868661 0.006391415251452175\n",
            "33 0.8280760792198357 0.006172007698022108\n",
            "35 0.8272364781074121 0.00660548279609776\n",
            "37 0.8267468208601473 0.006088493912561361\n",
            "39 0.8270266389783704 0.0064351811494795675\n",
            "41 0.8270965935079262 0.006389126356717897\n",
            "43 0.8267468208601473 0.006088493912561361\n",
            "45 0.826816775389703 0.006143427011023478\n",
            "47 0.826816775389703 0.006143427011023478\n",
            "49 0.826816775389703 0.006143427011023478\n"
          ],
          "name": "stdout"
        }
      ]
    },
    {
      "cell_type": "code",
      "metadata": {
        "id": "ubyupoQs8sUN",
        "colab_type": "code",
        "colab": {},
        "outputId": "a68448de-a17e-4403-e395-22844954c7ed"
      },
      "source": [
        "plt.figure(figsize=(14, 5))\n",
        "plt.plot(hp_values, all_mu)\n",
        "plt.ylabel('Cross Validation Accuracy')\n",
        "plt.xlabel('Max Depth')"
      ],
      "execution_count": null,
      "outputs": [
        {
          "output_type": "execute_result",
          "data": {
            "text/plain": [
              "Text(0.5, 0, 'Max Depth')"
            ]
          },
          "metadata": {
            "tags": []
          },
          "execution_count": 27
        },
        {
          "output_type": "display_data",
          "data": {
            "image/png": "[encoded data removed]",
            "text/plain": [
              "<Figure size 1008x360 with 1 Axes>"
            ]
          },
          "metadata": {
            "tags": [],
            "needs_background": "light"
          }
        }
      ]
    },
    {
      "cell_type": "code",
      "metadata": {
        "id": "8_7LvYJB8sUQ",
        "colab_type": "code",
        "colab": {},
        "outputId": "87c98187-b107-4da9-abb8-973122af63ed"
      },
      "source": [
        "plt.figure(figsize=(14, 5))\n",
        "plt.plot(hp_values, all_sigma)\n",
        "plt.ylabel('Cross Validation Std Dev.')\n",
        "plt.xlabel('Max Depth')"
      ],
      "execution_count": null,
      "outputs": [
        {
          "output_type": "execute_result",
          "data": {
            "text/plain": [
              "Text(0.5, 0, 'Max Depth')"
            ]
          },
          "metadata": {
            "tags": []
          },
          "execution_count": 28
        },
        {
          "output_type": "display_data",
          "data": {
            "image/png": "[encoded data removed]",
            "text/plain": [
              "<Figure size 1008x360 with 1 Axes>"
            ]
          },
          "metadata": {
            "tags": [],
            "needs_background": "light"
          }
        }
      ]
    },
    {
      "cell_type": "code",
      "metadata": {
        "id": "tn-B7MPQ8sUT",
        "colab_type": "code",
        "colab": {}
      },
      "source": [
        ""
      ],
      "execution_count": null,
      "outputs": []
    },
    {
      "cell_type": "markdown",
      "metadata": {
        "id": "14zbReGM8sUW",
        "colab_type": "text"
      },
      "source": [
        "# Evaluating Model Performance\n",
        "\n",
        "We can use ROC curves to look at how our models perform across a variety of threshholds against our holdout data. \n"
      ]
    },
    {
      "cell_type": "code",
      "metadata": {
        "id": "Av2ULo818sUW",
        "colab_type": "code",
        "colab": {}
      },
      "source": [
        "def plot_roc(classifier, label, color):\n",
        "\n",
        "    classifier.fit(train_df[features], train_df['success'])\n",
        "    y_prob = classifier.predict_proba(holdout_df[features])\n",
        "    \n",
        "    fpr, tpr, thresh = roc_curve(holdout_df['success'], y_prob[:,1])\n",
        "    plt.plot(fpr, tpr,\n",
        "             label=label,\n",
        "             color=color, linewidth=3)\n",
        "\n",
        "    auc = roc_auc_score(holdout_df['success'], y_prob[:,1])\n",
        "    \n",
        "    print('AUC: %0.3f (%s)' % (auc, label))\n",
        " "
      ],
      "execution_count": null,
      "outputs": []
    },
    {
      "cell_type": "code",
      "metadata": {
        "id": "qITsCII28sUa",
        "colab_type": "code",
        "colab": {},
        "outputId": "d2004e5c-84d9-43af-c903-c2e2654b24d1"
      },
      "source": [
        "f1 = plt.figure(figsize=(14,6))\n",
        "\n",
        "logreg = LogisticRegression(\n",
        "    random_state=random_state, \n",
        "    solver='lbfgs'\n",
        ")\n",
        "plot_roc(logreg, 'Logistic Regression', 'green')\n",
        "\n",
        "dtree = DecisionTreeClassifier(\n",
        "    random_state=random_state, \n",
        "    max_depth=10\n",
        ")\n",
        "plot_roc(dtree, 'Decision Tree', 'red')\n",
        "\n",
        "rforest = RandomForestClassifier(\n",
        "    random_state=random_state, \n",
        "    max_depth=10,\n",
        "    n_estimators=100\n",
        ")\n",
        "plot_roc(rforest, 'Random Forest', 'blue')\n",
        "\n",
        "gbm = GradientBoostingClassifier(\n",
        "    random_state=random_state, \n",
        "    max_depth=10,\n",
        "    n_estimators=100\n",
        ")\n",
        "plot_roc(gbm, 'GBM', 'lightblue')\n",
        "\n",
        "plt.legend(loc='lower right')"
      ],
      "execution_count": null,
      "outputs": [
        {
          "output_type": "stream",
          "text": [
            "AUC: 0.866 (Logistic Regression)\n",
            "AUC: 0.912 (Decision Tree)\n",
            "AUC: 0.931 (Random Forest)\n",
            "AUC: 0.938 (GBM)\n"
          ],
          "name": "stdout"
        },
        {
          "output_type": "execute_result",
          "data": {
            "text/plain": [
              "<matplotlib.legend.Legend at 0x1a21e0e0b8>"
            ]
          },
          "metadata": {
            "tags": []
          },
          "execution_count": 30
        },
        {
          "output_type": "display_data",
          "data": {
            "image/png": "[encoded data removed]",
            "text/plain": [
              "<Figure size 1008x432 with 1 Axes>"
            ]
          },
          "metadata": {
            "tags": [],
            "needs_background": "light"
          }
        }
      ]
    },
    {
      "cell_type": "markdown",
      "metadata": {
        "id": "x6yGJWeT8sUg",
        "colab_type": "text"
      },
      "source": [
        "## Review and Discussion: \n",
        " * Why do we think GBMs exhibit the best performance here? \n",
        " * In what situations might they not work as well?"
      ]
    },
    {
      "cell_type": "code",
      "metadata": {
        "id": "Lk8MemVp8sUh",
        "colab_type": "code",
        "colab": {}
      },
      "source": [
        ""
      ],
      "execution_count": null,
      "outputs": []
    },
    {
      "cell_type": "code",
      "metadata": {
        "id": "I0AMEhUW8sUk",
        "colab_type": "code",
        "colab": {}
      },
      "source": [
        ""
      ],
      "execution_count": null,
      "outputs": []
    },
    {
      "cell_type": "code",
      "metadata": {
        "id": "Q_bAc0ys8sUm",
        "colab_type": "code",
        "colab": {}
      },
      "source": [
        ""
      ],
      "execution_count": null,
      "outputs": []
    },
    {
      "cell_type": "code",
      "metadata": {
        "id": "wJeRG2gu8sUq",
        "colab_type": "code",
        "colab": {}
      },
      "source": [
        ""
      ],
      "execution_count": null,
      "outputs": []
    },
    {
      "cell_type": "code",
      "metadata": {
        "id": "e_irpZTI8sUv",
        "colab_type": "code",
        "colab": {}
      },
      "source": [
        ""
      ],
      "execution_count": null,
      "outputs": []
    }
  ]
}